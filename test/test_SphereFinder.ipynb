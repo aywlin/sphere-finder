{
 "cells": [
  {
   "cell_type": "code",
   "execution_count": 1,
   "metadata": {},
   "outputs": [],
   "source": [
    "%matplotlib widget\n",
    "\n",
    "from pathlib import Path \n",
    "\n",
    "import numpy as np\n",
    "import matplotlib.pyplot as plt\n",
    "\n",
    "from skimage.color import label2rgb\n",
    "from skimage.filters import sobel\n",
    "from skimage import morphology\n",
    "import skimage.segmentation as seg\n",
    "from scipy import ndimage as ndi\n",
    "\n",
    "import ncempy.io as nio\n",
    "\n",
    "import ipywidgets as widgets"
   ]
  },
  {
   "cell_type": "markdown",
   "metadata": {},
   "source": [
    "## Load data"
   ]
  },
  {
   "cell_type": "code",
   "execution_count": 2,
   "metadata": {},
   "outputs": [
    {
     "name": "stdout",
     "output_type": "stream",
     "text": [
      "EMD file contains 1 data sets\n",
      "Dataset #0 from detector: HAADF\n",
      "pixel size = (5.4830, 5.4830) nm\n",
      "{'pixelSizeUnit': ['nm', 'nm'], 'pixelSize': (5.483017815649768, 5.483017815649768), 'AcquisitionTime': datetime.datetime(2020, 11, 25, 16, 31, 46), 'Stage': {'Position': {'x': '-0.0001256090550000001', 'y': '-0.00051432961799999992', 'z': '-0.00011989836000000002'}, 'AlphaTilt': '-3.1359999999734965e-06', 'BetaTilt': '0.00055922558200545609', 'HolderType': 'FEI Double Tilt'}, 'detectorName': 'HAADF', 'dwellTime': '9.9999999999999995e-07'}\n"
     ]
    },
    {
     "data": {
      "application/vnd.jupyter.widget-view+json": {
       "model_id": "02b56bf1b4c444a0853c1f6084b1dc5f",
       "version_major": 2,
       "version_minor": 0
      },
      "text/plain": [
       "Canvas(toolbar=Toolbar(toolitems=[('Home', 'Reset original view', 'home', 'home'), ('Back', 'Back to previous …"
      ]
     },
     "metadata": {},
     "output_type": "display_data"
    },
    {
     "data": {
      "text/plain": [
       "<matplotlib.image.AxesImage at 0x1fea4702bc8>"
      ]
     },
     "execution_count": 2,
     "metadata": {},
     "output_type": "execute_result"
    }
   ],
   "source": [
    "dPath = Path(r'C:\\Users\\alexl\\Documents\\Python\\sphere-finder\\data')\n",
    "fPath = 'CaCO3_HAADF_2.emd'\n",
    "\n",
    "emd1 = nio.emdVelox.fileEMDVelox(dPath / fPath)\n",
    "#emd1['data']\n",
    "print(emd1) # print information about the file\n",
    "im0, metadata0 = emd1.get_dataset(0)\n",
    "print(metadata0)\n",
    "\n",
    "fg, ax = plt.subplots(1,1)\n",
    "ax.imshow(im0, cmap='gray')"
   ]
  },
  {
   "cell_type": "markdown",
   "metadata": {},
   "source": [
    "## Image histogram"
   ]
  },
  {
   "cell_type": "code",
   "execution_count": 3,
   "metadata": {
    "scrolled": true
   },
   "outputs": [
    {
     "data": {
      "application/vnd.jupyter.widget-view+json": {
       "model_id": "edb2456e737b4a9ebc5181dbdaeb4d91",
       "version_major": 2,
       "version_minor": 0
      },
      "text/plain": [
       "Canvas(toolbar=Toolbar(toolitems=[('Home', 'Reset original view', 'home', 'home'), ('Back', 'Back to previous …"
      ]
     },
     "metadata": {},
     "output_type": "display_data"
    }
   ],
   "source": [
    "fig, ax = plt.subplots(1, 1)\n",
    "ax.hist(im0.ravel(), bins=32, range=[20000, 45000])\n",
    "ax.set_xlim(20000, 45000);"
   ]
  },
  {
   "cell_type": "markdown",
   "metadata": {},
   "source": [
    "## Region-based segmentation"
   ]
  },
  {
   "cell_type": "code",
   "execution_count": 4,
   "metadata": {},
   "outputs": [
    {
     "data": {
      "application/vnd.jupyter.widget-view+json": {
       "model_id": "e734282a6df84eeca88ddcf998d2e942",
       "version_major": 2,
       "version_minor": 0
      },
      "text/plain": [
       "Canvas(toolbar=Toolbar(toolitems=[('Home', 'Reset original view', 'home', 'home'), ('Back', 'Back to previous …"
      ]
     },
     "metadata": {},
     "output_type": "display_data"
    },
    {
     "data": {
      "text/plain": [
       "<matplotlib.image.AxesImage at 0x1fea5e953c8>"
      ]
     },
     "execution_count": 4,
     "metadata": {},
     "output_type": "execute_result"
    }
   ],
   "source": [
    "#defining image data variable\n",
    "im_data = im0\n",
    "\n",
    "#Sobel gradient of image\n",
    "elevation_map = sobel(im_data)\n",
    "fg = plt.figure()\n",
    "plt.imshow(elevation_map)"
   ]
  },
  {
   "cell_type": "code",
   "execution_count": 5,
   "metadata": {},
   "outputs": [
    {
     "data": {
      "application/vnd.jupyter.widget-view+json": {
       "model_id": "a3aa0c5407cf4df990fbf0fe0ace7e21",
       "version_major": 2,
       "version_minor": 0
      },
      "text/plain": [
       "Canvas(toolbar=Toolbar(toolitems=[('Home', 'Reset original view', 'home', 'home'), ('Back', 'Back to previous …"
      ]
     },
     "metadata": {},
     "output_type": "display_data"
    },
    {
     "data": {
      "text/plain": [
       "<matplotlib.image.AxesImage at 0x1fea5f18208>"
      ]
     },
     "execution_count": 5,
     "metadata": {},
     "output_type": "execute_result"
    }
   ],
   "source": [
    "#finding markers of the background based on extreme parts of the histogram\n",
    "markers = np.zeros_like(im_data)\n",
    "markers[im_data < 30000] = 1\n",
    "markers[im_data > 32000] = 2\n",
    "\n",
    "fg = plt.figure()\n",
    "plt.imshow(markers)"
   ]
  },
  {
   "cell_type": "code",
   "execution_count": 6,
   "metadata": {},
   "outputs": [
    {
     "data": {
      "application/vnd.jupyter.widget-view+json": {
       "model_id": "601aebb5fc7e44df9f9463943d833614",
       "version_major": 2,
       "version_minor": 0
      },
      "text/plain": [
       "Canvas(toolbar=Toolbar(toolitems=[('Home', 'Reset original view', 'home', 'home'), ('Back', 'Back to previous …"
      ]
     },
     "metadata": {},
     "output_type": "display_data"
    },
    {
     "data": {
      "text/plain": [
       "<matplotlib.image.AxesImage at 0x1fea5f8d188>"
      ]
     },
     "execution_count": 6,
     "metadata": {},
     "output_type": "execute_result"
    }
   ],
   "source": [
    "#watershed transform to fill regions of the elevation map starting from the markers\n",
    "segmentation_image = seg.watershed(elevation_map, markers)\n",
    "segmentation_image = ndi.binary_fill_holes(segmentation_image - 1)\n",
    "fg = plt.figure()\n",
    "plt.imshow(segmentation_image)"
   ]
  },
  {
   "cell_type": "code",
   "execution_count": 7,
   "metadata": {},
   "outputs": [
    {
     "data": {
      "application/vnd.jupyter.widget-view+json": {
       "model_id": "04582b6ae77a42d6adfcb34ef2a4bc63",
       "version_major": 2,
       "version_minor": 0
      },
      "text/plain": [
       "Canvas(toolbar=Toolbar(toolitems=[('Home', 'Reset original view', 'home', 'home'), ('Back', 'Back to previous …"
      ]
     },
     "metadata": {},
     "output_type": "display_data"
    },
    {
     "name": "stdout",
     "output_type": "stream",
     "text": [
      "2\n"
     ]
    }
   ],
   "source": [
    "#removing small fragments and incomplete spheres\n",
    "cleaned_image = morphology.remove_small_objects(segmentation_image, 10000)\n",
    "labeled_spheres, number = ndi.label(cleaned_image)\n",
    "image_label_overlay = label2rgb(labeled_spheres, image=im_data, bg_label=0)\n",
    "\n",
    "fg, axes = plt.subplots(1, 2, figsize=(8, 3), sharey=True)\n",
    "axes[0].imshow(im_data, cmap=plt.cm.gray)\n",
    "axes[0].contour(cleaned_image, [0.5], linewidths=0.5, colors='y')\n",
    "axes[1].imshow(image_label_overlay)\n",
    "\n",
    "#display number of spheres in image\n",
    "print(number)"
   ]
  }
 ],
 "metadata": {
  "kernelspec": {
   "display_name": "Python 3",
   "language": "python",
   "name": "python3"
  },
  "language_info": {
   "codemirror_mode": {
    "name": "ipython",
    "version": 3
   },
   "file_extension": ".py",
   "mimetype": "text/x-python",
   "name": "python",
   "nbconvert_exporter": "python",
   "pygments_lexer": "ipython3",
   "version": "3.7.6"
  }
 },
 "nbformat": 4,
 "nbformat_minor": 4
}
