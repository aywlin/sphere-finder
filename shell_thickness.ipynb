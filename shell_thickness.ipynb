{
 "cells": [
  {
   "cell_type": "code",
   "execution_count": 1,
   "id": "877a7d38-4a75-459c-9347-f1643c72da77",
   "metadata": {},
   "outputs": [],
   "source": [
    "%matplotlib widget\n",
    "\n",
    "import h5py\n",
    "import scipy\n",
    "import numpy as np\n",
    "import matplotlib.pyplot as plt\n",
    "import matplotlib.patches as mpatches\n",
    "import pandas as pd\n",
    "from scipy import ndimage as ndi\n",
    "\n",
    "import skimage.morphology as morph\n",
    "import skimage.measure as measure\n",
    "import skimage.filters as filt\n",
    "import skimage.segmentation as seg\n",
    "import skimage.feature as feature\n",
    "from skimage.color import label2rgb\n",
    "\n",
    "from sklearn.metrics import r2_score"
   ]
  },
  {
   "cell_type": "markdown",
   "id": "ff70f2bf",
   "metadata": {},
   "source": [
    "## Load data"
   ]
  },
  {
   "cell_type": "code",
   "execution_count": 2,
   "id": "8c883f0c-b7fb-46ef-b92b-857e68729a28",
   "metadata": {},
   "outputs": [
    {
     "data": {
      "text/plain": [
       "(243, 2048, 2048)"
      ]
     },
     "execution_count": 2,
     "metadata": {},
     "output_type": "execute_result"
    }
   ],
   "source": [
    "# Pulling image data from EMD file\n",
    "\n",
    "f = h5py.File(r'C:\\Users\\alexl\\Documents\\Data\\20210815 - vaterite HTP\\20210808_vaterite_24hr_alpha_30_v3_original.emd', 'r')\n",
    "htp_images = f['/data/images2048/data'][:]\n",
    "htp_images.shape"
   ]
  },
  {
   "cell_type": "code",
   "execution_count": 3,
   "id": "b15fb83c-ee54-4231-af56-234fe98b95d1",
   "metadata": {},
   "outputs": [
    {
     "name": "stdout",
     "output_type": "stream",
     "text": [
      "7.654511e-09\n"
     ]
    }
   ],
   "source": [
    "#pulling pixel size of images from metadata\n",
    "\n",
    "metadata = f['data/images2048/imageparameters']\n",
    "pixelSize = metadata[10,0]\n",
    "print(pixelSize)"
   ]
  },
  {
   "cell_type": "code",
   "execution_count": 4,
   "id": "7dc8c0f3-8172-4b5d-b9ca-4f9658c69142",
   "metadata": {},
   "outputs": [
    {
     "data": {
      "application/vnd.jupyter.widget-view+json": {
       "model_id": "7cf5ad98c5994c78960325e8d6c8a84c",
       "version_major": 2,
       "version_minor": 0
      },
      "text/plain": [
       "Canvas(toolbar=Toolbar(toolitems=[('Home', 'Reset original view', 'home', 'home'), ('Back', 'Back to previous …"
      ]
     },
     "metadata": {},
     "output_type": "display_data"
    },
    {
     "data": {
      "text/plain": [
       "<matplotlib.image.AxesImage at 0x20346621b48>"
      ]
     },
     "execution_count": 4,
     "metadata": {},
     "output_type": "execute_result"
    }
   ],
   "source": [
    "fg, ax = plt.subplots(1,1)\n",
    "ax.imshow(htp_images[3], cmap='gray')"
   ]
  },
  {
   "cell_type": "code",
   "execution_count": 5,
   "id": "e0e38046-d6a7-4b09-b2b5-ba2cad1cfe1b",
   "metadata": {},
   "outputs": [],
   "source": [
    "# Function to analyze whole image stack\n",
    "labels = []\n",
    "properties = {}\n",
    "\n",
    "def HTP_spherefinder(im_start, im_finish, step_size):\n",
    "    #start1 = time.time()\n",
    "    for ii in range(im_start, im_finish, step_size):\n",
    "        im_data = htp_images[ii]\n",
    "        elevation_map = filt.sobel(im_data)\n",
    "        \n",
    "        # Generate markers (regions from objects) based on threshold value using Otsu's method\n",
    "        thresh_val = filt.threshold_otsu(im_data)\n",
    "        markers = np.zeros_like(im_data)\n",
    "        markers[im_data < thresh_val] = 1\n",
    "        markers[im_data > thresh_val] = 2\n",
    "        \n",
    "        # Watershed transform to fill regions of the elevation map starting from the markers\n",
    "        segmentation_im = seg.watershed(elevation_map, markers)\n",
    "        segmentation_im = ndi.binary_fill_holes(segmentation_im - 1)\n",
    "        \n",
    "        # Remove small particles and incomplete spheres\n",
    "        cleaned_im0 = morph.remove_small_objects(segmentation_im, 10000)\n",
    "        \n",
    "        # Remove objects touching image border\n",
    "        cleaned_im1 = seg.clear_border(cleaned_im0, buffer_size=5)\n",
    "        \n",
    "        # Watershed segmentation to separate out particles that are touching and overlapping\n",
    "        distance = ndi.distance_transform_edt(cleaned_im0)\n",
    "        coords = feature.peak_local_max(distance, footprint=np.ones((200,200)), labels=cleaned_im0)\n",
    "        mask1 = np.zeros(distance.shape, dtype=bool)\n",
    "        mask1[tuple(coords.T)] = True\n",
    "        cleaned_image_markers, _ = ndi.label(mask1)\n",
    "        labels_ws = seg.watershed(-distance, cleaned_image_markers, mask=cleaned_im1)\n",
    "        \n",
    "        # Clean data from the watershed segmentation\n",
    "        labels_ws0 = morph.remove_small_objects(labels_ws, 1000)\n",
    "\n",
    "        labels_ws1 = seg.clear_border(labels_ws0, buffer_size=5)\n",
    "        labels.append(labels_ws1)\n",
    "        \n",
    "        # Show labeled spheres and overlay the labels onto original image data\n",
    "        labeled_spheres, number = ndi.label(labels_ws1)\n",
    "        # image_label_overlay = label2rgb(labels_ws1, image=im_data, bg_label=0)\n",
    "        \n",
    "        # fg, axes = plt.subplots(1, 3, figsize=(8, 3), sharey=True)\n",
    "        #axes[0].imshow(im_data, cmap=plt.cm.gray)\n",
    "        #axes[0].contour(cleaned_im0, [0.5], linewidths=0.5, colors='y')\n",
    "        #axes[1].imshow(cleaned_im1)\n",
    "        #axes[2].imshow(labels_ws1[ii], cmap=plt.cm.nipy_spectral, interpolation='nearest')\n",
    "        # axes[3].imshow(image_label_overlay)\n",
    "        \n",
    "        # Measure properties from segmented regions\n",
    "        properties[ii] = measure.regionprops_table(labels_ws1, properties=('area',\n",
    "                                                                           'major_axis_length',\n",
    "                                                                           'minor_axis_length',\n",
    "                                                                           'eccentricity',\n",
    "                                                                           'label',\n",
    "                                                                           'centroid'))\n",
    "        # Index which image in the stack the properties are from\n",
    "        properties[ii]['image_seq'] = ii\n",
    "        \n",
    "        #stop1 = time.time()\n",
    "        #print('Time to complete: {}'.format(stop1 - start1))  \n",
    "    return properties, labels\n"
   ]
  },
  {
   "cell_type": "code",
   "execution_count": 6,
   "id": "9a5dee80",
   "metadata": {
    "scrolled": false
   },
   "outputs": [
    {
     "data": {
      "text/plain": [
       "({0: {'area': array([], dtype=int32),\n",
       "   'major_axis_length': array([], dtype=float64),\n",
       "   'minor_axis_length': array([], dtype=float64),\n",
       "   'eccentricity': array([], dtype=float64),\n",
       "   'label': array([], dtype=int32),\n",
       "   'centroid-0': array([], dtype=float64),\n",
       "   'centroid-1': array([], dtype=float64),\n",
       "   'image_seq': 0},\n",
       "  1: {'area': array([], dtype=int32),\n",
       "   'major_axis_length': array([], dtype=float64),\n",
       "   'minor_axis_length': array([], dtype=float64),\n",
       "   'eccentricity': array([], dtype=float64),\n",
       "   'label': array([], dtype=int32),\n",
       "   'centroid-0': array([], dtype=float64),\n",
       "   'centroid-1': array([], dtype=float64),\n",
       "   'image_seq': 1},\n",
       "  2: {'area': array([ 66210, 134020,  63111,  54128,  34432,  27980]),\n",
       "   'major_axis_length': array([336.74654256, 516.32284095, 303.6183025 , 301.29575963,\n",
       "          223.33597866, 235.81686418]),\n",
       "   'minor_axis_length': array([252.8035015 , 367.4078912 , 266.00788983, 229.93947978,\n",
       "          197.22983807, 168.5891146 ]),\n",
       "   'eccentricity': array([0.66061669, 0.70259943, 0.48208218, 0.64619935, 0.46916935,\n",
       "          0.69921093]),\n",
       "   'label': array([ 1,  4,  5,  7,  9, 12]),\n",
       "   'centroid-0': array([ 286.68977496,  984.37973437, 1046.62315603, 1374.87330033,\n",
       "          1632.46358039, 1783.10564689]),\n",
       "   'centroid-1': array([ 419.40036248,  990.1069318 ,  729.86214764,  600.46349394,\n",
       "           546.02959456, 1432.85364546]),\n",
       "   'image_seq': 2},\n",
       "  3: {'area': array([40485, 49830, 30092, 12231, 68141]),\n",
       "   'major_axis_length': array([249.44877541, 272.18681169, 210.07521501, 200.95594413,\n",
       "          310.19431056]),\n",
       "   'minor_axis_length': array([207.45356832, 234.30589719, 183.75390295,  80.34183387,\n",
       "          281.02333843]),\n",
       "   'eccentricity': array([0.55530321, 0.50889683, 0.48465518, 0.91660317, 0.42336536]),\n",
       "   'label': array([ 4,  5,  6,  7, 11]),\n",
       "   'centroid-0': array([ 598.61002841,  696.86568332,  898.27847933,  927.84645573,\n",
       "          1884.47114072]),\n",
       "   'centroid-1': array([1669.62704705,  242.95803733, 1510.0904227 , 1852.98372987,\n",
       "          1118.76679239]),\n",
       "   'image_seq': 3}},\n",
       " [array([[0, 0, 0, ..., 0, 0, 0],\n",
       "         [0, 0, 0, ..., 0, 0, 0],\n",
       "         [0, 0, 0, ..., 0, 0, 0],\n",
       "         ...,\n",
       "         [0, 0, 0, ..., 0, 0, 0],\n",
       "         [0, 0, 0, ..., 0, 0, 0],\n",
       "         [0, 0, 0, ..., 0, 0, 0]]),\n",
       "  array([[0, 0, 0, ..., 0, 0, 0],\n",
       "         [0, 0, 0, ..., 0, 0, 0],\n",
       "         [0, 0, 0, ..., 0, 0, 0],\n",
       "         ...,\n",
       "         [0, 0, 0, ..., 0, 0, 0],\n",
       "         [0, 0, 0, ..., 0, 0, 0],\n",
       "         [0, 0, 0, ..., 0, 0, 0]]),\n",
       "  array([[0, 0, 0, ..., 0, 0, 0],\n",
       "         [0, 0, 0, ..., 0, 0, 0],\n",
       "         [0, 0, 0, ..., 0, 0, 0],\n",
       "         ...,\n",
       "         [0, 0, 0, ..., 0, 0, 0],\n",
       "         [0, 0, 0, ..., 0, 0, 0],\n",
       "         [0, 0, 0, ..., 0, 0, 0]]),\n",
       "  array([[0, 0, 0, ..., 0, 0, 0],\n",
       "         [0, 0, 0, ..., 0, 0, 0],\n",
       "         [0, 0, 0, ..., 0, 0, 0],\n",
       "         ...,\n",
       "         [0, 0, 0, ..., 0, 0, 0],\n",
       "         [0, 0, 0, ..., 0, 0, 0],\n",
       "         [0, 0, 0, ..., 0, 0, 0]])])"
      ]
     },
     "execution_count": 6,
     "metadata": {},
     "output_type": "execute_result"
    }
   ],
   "source": [
    "HTP_spherefinder(0,4,1)"
   ]
  },
  {
   "cell_type": "markdown",
   "id": "8c3b3579",
   "metadata": {},
   "source": [
    "## Properties of labeled regions in HTP data"
   ]
  },
  {
   "cell_type": "code",
   "execution_count": 7,
   "id": "048d74fc-bcd4-4cf1-8967-d21a178ba4af",
   "metadata": {
    "scrolled": false
   },
   "outputs": [
    {
     "data": {
      "text/html": [
       "<div>\n",
       "<style scoped>\n",
       "    .dataframe tbody tr th:only-of-type {\n",
       "        vertical-align: middle;\n",
       "    }\n",
       "\n",
       "    .dataframe tbody tr th {\n",
       "        vertical-align: top;\n",
       "    }\n",
       "\n",
       "    .dataframe thead th {\n",
       "        text-align: right;\n",
       "    }\n",
       "</style>\n",
       "<table border=\"1\" class=\"dataframe\">\n",
       "  <thead>\n",
       "    <tr style=\"text-align: right;\">\n",
       "      <th></th>\n",
       "      <th>area</th>\n",
       "      <th>major_axis_length</th>\n",
       "      <th>minor_axis_length</th>\n",
       "      <th>eccentricity</th>\n",
       "      <th>label</th>\n",
       "      <th>centroid-0</th>\n",
       "      <th>centroid-1</th>\n",
       "      <th>image_seq</th>\n",
       "    </tr>\n",
       "  </thead>\n",
       "  <tbody>\n",
       "    <tr>\n",
       "      <th>0</th>\n",
       "      <td>NaN</td>\n",
       "      <td>NaN</td>\n",
       "      <td>NaN</td>\n",
       "      <td>NaN</td>\n",
       "      <td>NaN</td>\n",
       "      <td>NaN</td>\n",
       "      <td>NaN</td>\n",
       "      <td>0</td>\n",
       "    </tr>\n",
       "    <tr>\n",
       "      <th>1</th>\n",
       "      <td>NaN</td>\n",
       "      <td>NaN</td>\n",
       "      <td>NaN</td>\n",
       "      <td>NaN</td>\n",
       "      <td>NaN</td>\n",
       "      <td>NaN</td>\n",
       "      <td>NaN</td>\n",
       "      <td>1</td>\n",
       "    </tr>\n",
       "    <tr>\n",
       "      <th>2</th>\n",
       "      <td>66210</td>\n",
       "      <td>336.746543</td>\n",
       "      <td>252.803501</td>\n",
       "      <td>0.660617</td>\n",
       "      <td>1</td>\n",
       "      <td>286.689775</td>\n",
       "      <td>419.400362</td>\n",
       "      <td>2</td>\n",
       "    </tr>\n",
       "    <tr>\n",
       "      <th>2</th>\n",
       "      <td>134020</td>\n",
       "      <td>516.322841</td>\n",
       "      <td>367.407891</td>\n",
       "      <td>0.702599</td>\n",
       "      <td>4</td>\n",
       "      <td>984.379734</td>\n",
       "      <td>990.106932</td>\n",
       "      <td>2</td>\n",
       "    </tr>\n",
       "    <tr>\n",
       "      <th>2</th>\n",
       "      <td>63111</td>\n",
       "      <td>303.618303</td>\n",
       "      <td>266.00789</td>\n",
       "      <td>0.482082</td>\n",
       "      <td>5</td>\n",
       "      <td>1046.623156</td>\n",
       "      <td>729.862148</td>\n",
       "      <td>2</td>\n",
       "    </tr>\n",
       "    <tr>\n",
       "      <th>2</th>\n",
       "      <td>54128</td>\n",
       "      <td>301.29576</td>\n",
       "      <td>229.93948</td>\n",
       "      <td>0.646199</td>\n",
       "      <td>7</td>\n",
       "      <td>1374.8733</td>\n",
       "      <td>600.463494</td>\n",
       "      <td>2</td>\n",
       "    </tr>\n",
       "    <tr>\n",
       "      <th>2</th>\n",
       "      <td>34432</td>\n",
       "      <td>223.335979</td>\n",
       "      <td>197.229838</td>\n",
       "      <td>0.469169</td>\n",
       "      <td>9</td>\n",
       "      <td>1632.46358</td>\n",
       "      <td>546.029595</td>\n",
       "      <td>2</td>\n",
       "    </tr>\n",
       "    <tr>\n",
       "      <th>2</th>\n",
       "      <td>27980</td>\n",
       "      <td>235.816864</td>\n",
       "      <td>168.589115</td>\n",
       "      <td>0.699211</td>\n",
       "      <td>12</td>\n",
       "      <td>1783.105647</td>\n",
       "      <td>1432.853645</td>\n",
       "      <td>2</td>\n",
       "    </tr>\n",
       "    <tr>\n",
       "      <th>3</th>\n",
       "      <td>40485</td>\n",
       "      <td>249.448775</td>\n",
       "      <td>207.453568</td>\n",
       "      <td>0.555303</td>\n",
       "      <td>4</td>\n",
       "      <td>598.610028</td>\n",
       "      <td>1669.627047</td>\n",
       "      <td>3</td>\n",
       "    </tr>\n",
       "    <tr>\n",
       "      <th>3</th>\n",
       "      <td>49830</td>\n",
       "      <td>272.186812</td>\n",
       "      <td>234.305897</td>\n",
       "      <td>0.508897</td>\n",
       "      <td>5</td>\n",
       "      <td>696.865683</td>\n",
       "      <td>242.958037</td>\n",
       "      <td>3</td>\n",
       "    </tr>\n",
       "    <tr>\n",
       "      <th>3</th>\n",
       "      <td>30092</td>\n",
       "      <td>210.075215</td>\n",
       "      <td>183.753903</td>\n",
       "      <td>0.484655</td>\n",
       "      <td>6</td>\n",
       "      <td>898.278479</td>\n",
       "      <td>1510.090423</td>\n",
       "      <td>3</td>\n",
       "    </tr>\n",
       "    <tr>\n",
       "      <th>3</th>\n",
       "      <td>12231</td>\n",
       "      <td>200.955944</td>\n",
       "      <td>80.341834</td>\n",
       "      <td>0.916603</td>\n",
       "      <td>7</td>\n",
       "      <td>927.846456</td>\n",
       "      <td>1852.98373</td>\n",
       "      <td>3</td>\n",
       "    </tr>\n",
       "    <tr>\n",
       "      <th>3</th>\n",
       "      <td>68141</td>\n",
       "      <td>310.194311</td>\n",
       "      <td>281.023338</td>\n",
       "      <td>0.423365</td>\n",
       "      <td>11</td>\n",
       "      <td>1884.471141</td>\n",
       "      <td>1118.766792</td>\n",
       "      <td>3</td>\n",
       "    </tr>\n",
       "  </tbody>\n",
       "</table>\n",
       "</div>"
      ],
      "text/plain": [
       "     area major_axis_length minor_axis_length eccentricity label   centroid-0  \\\n",
       "0     NaN               NaN               NaN          NaN   NaN          NaN   \n",
       "1     NaN               NaN               NaN          NaN   NaN          NaN   \n",
       "2   66210        336.746543        252.803501     0.660617     1   286.689775   \n",
       "2  134020        516.322841        367.407891     0.702599     4   984.379734   \n",
       "2   63111        303.618303         266.00789     0.482082     5  1046.623156   \n",
       "2   54128         301.29576         229.93948     0.646199     7    1374.8733   \n",
       "2   34432        223.335979        197.229838     0.469169     9   1632.46358   \n",
       "2   27980        235.816864        168.589115     0.699211    12  1783.105647   \n",
       "3   40485        249.448775        207.453568     0.555303     4   598.610028   \n",
       "3   49830        272.186812        234.305897     0.508897     5   696.865683   \n",
       "3   30092        210.075215        183.753903     0.484655     6   898.278479   \n",
       "3   12231        200.955944         80.341834     0.916603     7   927.846456   \n",
       "3   68141        310.194311        281.023338     0.423365    11  1884.471141   \n",
       "\n",
       "    centroid-1  image_seq  \n",
       "0          NaN          0  \n",
       "1          NaN          1  \n",
       "2   419.400362          2  \n",
       "2   990.106932          2  \n",
       "2   729.862148          2  \n",
       "2   600.463494          2  \n",
       "2   546.029595          2  \n",
       "2  1432.853645          2  \n",
       "3  1669.627047          3  \n",
       "3   242.958037          3  \n",
       "3  1510.090423          3  \n",
       "3   1852.98373          3  \n",
       "3  1118.766792          3  "
      ]
     },
     "execution_count": 7,
     "metadata": {},
     "output_type": "execute_result"
    }
   ],
   "source": [
    "# Record segmented features from multiple image frames into dict\n",
    "# Note that this example only has one set of measurements that is repeated \n",
    "properties = {}\n",
    "for ii in range(0,4,1):\n",
    "    properties[ii] = measure.regionprops_table(labels[ii], properties=('area',\n",
    "                                                               'major_axis_length',\n",
    "                                                               'minor_axis_length',\n",
    "                                                               'eccentricity',\n",
    "                                                               'label',\n",
    "                                                               'centroid'))\n",
    "    properties[ii]['image_seq'] = ii\n",
    "\n",
    "# Create dataframe with the feature properties\n",
    "pd.set_option('display.max_rows', None)\n",
    "df = pd.DataFrame([properties[k] for k in range(0,4,1)])\n",
    "df = df.apply(pd.Series.explode)\n",
    "df"
   ]
  },
  {
   "cell_type": "markdown",
   "id": "b0ccf0c2",
   "metadata": {},
   "source": [
    "## Shell thickness analysis from HTP dataset and image labels"
   ]
  },
  {
   "cell_type": "code",
   "execution_count": 12,
   "id": "61aa4351-0a92-40b4-8fc3-a44f1328aaea",
   "metadata": {},
   "outputs": [],
   "source": [
    "#input image number in the stack\n",
    "jj = 3\n",
    "\n",
    "cx = properties[jj]['centroid-0']\n",
    "cx = cx.astype(int)\n",
    "cy = properties[jj]['centroid-1']\n",
    "cy = cy.astype(int)"
   ]
  },
  {
   "cell_type": "code",
   "execution_count": 17,
   "id": "5fe1db0b",
   "metadata": {},
   "outputs": [
    {
     "data": {
      "application/vnd.jupyter.widget-view+json": {
       "model_id": "f0c94a20425d495f9340f71fbbf313ae",
       "version_major": 2,
       "version_minor": 0
      },
      "text/plain": [
       "Canvas(toolbar=Toolbar(toolitems=[('Home', 'Reset original view', 'home', 'home'), ('Back', 'Back to previous …"
      ]
     },
     "metadata": {},
     "output_type": "display_data"
    }
   ],
   "source": [
    "# label image regions\n",
    "# to make the background transparent, pass the value of `bg_label`,\n",
    "# and leave `bg_color` as `None` and `kind` as `overlay`\n",
    "image_label_overlay = label2rgb(labels[jj], image=np.uint16(htp_images[jj]), bg_label=0)\n",
    "\n",
    "fig, ax = plt.subplots(figsize=(10, 6))\n",
    "ax.imshow(image_label_overlay)\n",
    "ax.plot(cy, cx, \"or\")\n",
    "\n",
    "for xc, yc in zip(cx,cy):\n",
    "    rect = mpatches.Rectangle((yc-200, xc-200), 400, 400, \n",
    "                              fill=False, \n",
    "                              edgecolor='red', \n",
    "                              linewidth=2)\n",
    "    ax.add_patch(rect)"
   ]
  },
  {
   "cell_type": "code",
   "execution_count": 11,
   "id": "5d028591-4bc5-4b96-906e-1fe0390900e1",
   "metadata": {
    "scrolled": false
   },
   "outputs": [
    {
     "data": {
      "application/vnd.jupyter.widget-view+json": {
       "model_id": "3bfbb287a8114ca98b27fcf1825b677d",
       "version_major": 2,
       "version_minor": 0
      },
      "text/plain": [
       "Canvas(toolbar=Toolbar(toolitems=[('Home', 'Reset original view', 'home', 'home'), ('Back', 'Back to previous …"
      ]
     },
     "metadata": {},
     "output_type": "display_data"
    },
    {
     "name": "stdout",
     "output_type": "stream",
     "text": [
      "157190.15861141263\n",
      "55\n",
      "0.9558547186043568\n"
     ]
    },
    {
     "data": {
      "application/vnd.jupyter.widget-view+json": {
       "model_id": "e2c8f94a3dae444092814b4552c49518",
       "version_major": 2,
       "version_minor": 0
      },
      "text/plain": [
       "Canvas(toolbar=Toolbar(toolitems=[('Home', 'Reset original view', 'home', 'home'), ('Back', 'Back to previous …"
      ]
     },
     "metadata": {},
     "output_type": "display_data"
    },
    {
     "name": "stdout",
     "output_type": "stream",
     "text": [
      "192145.8253862501\n",
      "69\n",
      "0.9783385794692504\n"
     ]
    },
    {
     "data": {
      "application/vnd.jupyter.widget-view+json": {
       "model_id": "ca8e641d328f46b5bd23bfa42375d2e7",
       "version_major": 2,
       "version_minor": 0
      },
      "text/plain": [
       "Canvas(toolbar=Toolbar(toolitems=[('Home', 'Reset original view', 'home', 'home'), ('Back', 'Back to previous …"
      ]
     },
     "metadata": {},
     "output_type": "display_data"
    },
    {
     "name": "stdout",
     "output_type": "stream",
     "text": [
      "218254.57172445438\n",
      "0\n",
      "0.9071458529422404\n"
     ]
    },
    {
     "data": {
      "application/vnd.jupyter.widget-view+json": {
       "model_id": "77999ae324664f5d8f32599cf7b056bf",
       "version_major": 2,
       "version_minor": 0
      },
      "text/plain": [
       "Canvas(toolbar=Toolbar(toolitems=[('Home', 'Reset original view', 'home', 'home'), ('Back', 'Back to previous …"
      ]
     },
     "metadata": {},
     "output_type": "display_data"
    },
    {
     "name": "stdout",
     "output_type": "stream",
     "text": [
      "273292.77448895585\n",
      "7\n",
      "0.9793468719326901\n"
     ]
    },
    {
     "data": {
      "application/vnd.jupyter.widget-view+json": {
       "model_id": "ed119a9d65f3402fa785346f06be4f92",
       "version_major": 2,
       "version_minor": 0
      },
      "text/plain": [
       "Canvas(toolbar=Toolbar(toolitems=[('Home', 'Reset original view', 'home', 'home'), ('Back', 'Back to previous …"
      ]
     },
     "metadata": {},
     "output_type": "display_data"
    },
    {
     "name": "stdout",
     "output_type": "stream",
     "text": [
      "501041.1161443198\n",
      "72\n",
      "0.96723789458617\n"
     ]
    }
   ],
   "source": [
    "plt.close('all')\n",
    "\n",
    "#input image number in the stack\n",
    "jj = 3\n",
    "\n",
    "cx = properties[jj]['centroid-0']\n",
    "cx = cx.astype(int) + 300 # account for padded image pixels, (0,0) becomes (0 + padded pixels,0 + padded pixels)\n",
    "cy = properties[jj]['centroid-1']\n",
    "cy = cy.astype(int) + 300 # account for padded image pixels\n",
    "\n",
    "for xc,yc in zip(cx,cy):\n",
    "    im_padded = np.pad(htp_images[jj], [(300,), (300,)], mode='constant') #padding images with zeros (adjust based on cropped image dimensions)\n",
    "    labels_padded = np.pad(labels[jj], [(300,), (300,)], mode='constant') #padding labels with zeros\n",
    "    \n",
    "    im_cropped = im_padded[xc-300:xc+300, yc-300:yc+300]\n",
    "    label_cropped = labels_padded[xc-300:xc+300, yc-300:yc+300]\n",
    "    label_cropped_clean = seg.clear_border(label_cropped, buffer_size=5)\n",
    "    im_cropped_clean = im_cropped * label_cropped_clean\n",
    "    \n",
    "    radial_sum = radial_sum_profile(im_cropped_clean, (300,300))\n",
    "    radial_fit_funct = radial_sum[0:99] # adjust based on estimated core size\n",
    "    x_values = np.arange(0,99) # adjust based on estimated core size\n",
    "    #popt_parab, pcov_parab = scipy.optimize.curve_fit(parabolic_fit, x_values, radial_fit_funct)\n",
    "    popt_cubic, pcov_cubic = scipy.optimize.curve_fit(cubic_fit, x_values, radial_fit_funct)\n",
    "    #perr_parab = np.sqrt(np.diag(pcov_parab))\n",
    "    perr_cubic = np.sqrt(np.diag(pcov_cubic))\n",
    "    #parab_funct = parabolic_fit(x_values, *popt_parab)\n",
    "    cubic_funct = cubic_fit(x_values, *popt_cubic)\n",
    "    #max_x_value = x_values[parab_funct.argmax()]\n",
    "    max_x_value = x_values[cubic_funct.argmax()]\n",
    "\n",
    "    fg, axes = plt.subplots(2, 2, figsize=(10, 6))\n",
    "    axes[0,0].imshow(im_cropped, cmap=plt.cm.gray)\n",
    "    axes[0,1].imshow(label_cropped)\n",
    "    axes[1,0].imshow(im_cropped_clean) #mask appkied\n",
    "    axes[1,1].plot(x_values, radial_fit_funct, '*') #radial sum\n",
    "    #axes[1,1].plot(x_values, parab_funct, \"g\") #curve fit function\n",
    "    axes[1,1].plot(x_values, cubic_funct, \"g\")\n",
    "    \n",
    "    print(cubic_funct.max())\n",
    "    print(max_x_value)\n",
    "    print(r2_score(radial_fit_funct, cubic_funct))"
   ]
  },
  {
   "cell_type": "code",
   "execution_count": 9,
   "id": "1173ec85-5d63-4d36-9d26-bdbc59fb22e7",
   "metadata": {},
   "outputs": [],
   "source": [
    "def radial_sum_profile(data, center):\n",
    "    y, x = np.indices((data.shape))\n",
    "    r = np.sqrt((x - center[0])**2 + (y - center[1])**2)\n",
    "    r = r.astype(np.int)\n",
    "\n",
    "    tbin = np.bincount(r.ravel(), data.ravel())\n",
    "    nr = np.bincount(r.ravel())\n",
    "    radial_profile = tbin / nr\n",
    "    return radial_profile "
   ]
  },
  {
   "cell_type": "markdown",
   "id": "b6ac00f4",
   "metadata": {},
   "source": [
    "## Curve fitting functions"
   ]
  },
  {
   "cell_type": "code",
   "execution_count": null,
   "id": "10176155-782f-4053-933d-815b1dd4f752",
   "metadata": {},
   "outputs": [],
   "source": [
    "def gaussian(x, amp1, cen1, sigma1):\n",
    "    return amp1*(1/(sigma1*(np.sqrt(2*np.pi))))*(np.exp((-1.0/2.0)*(((x_array-cen1)/sigma1)**2)))"
   ]
  },
  {
   "cell_type": "code",
   "execution_count": 13,
   "id": "5b116a00",
   "metadata": {},
   "outputs": [],
   "source": [
    "def parabolic_fit(x, a, b, c):\n",
    "    return (a*x**2) + (b*x) + c"
   ]
  },
  {
   "cell_type": "code",
   "execution_count": 10,
   "id": "e4249f1c-ddca-466c-91fe-437a2d3d7072",
   "metadata": {},
   "outputs": [],
   "source": [
    "def cubic_fit(x, a, b, c, d):\n",
    "    return (a*x**3) + (b*x**2) + (c*x) + d"
   ]
  }
 ],
 "metadata": {
  "kernelspec": {
   "display_name": "Python 3 (ipykernel)",
   "language": "python",
   "name": "python3"
  },
  "language_info": {
   "codemirror_mode": {
    "name": "ipython",
    "version": 3
   },
   "file_extension": ".py",
   "mimetype": "text/x-python",
   "name": "python",
   "nbconvert_exporter": "python",
   "pygments_lexer": "ipython3",
   "version": "3.7.10"
  }
 },
 "nbformat": 4,
 "nbformat_minor": 5
}
